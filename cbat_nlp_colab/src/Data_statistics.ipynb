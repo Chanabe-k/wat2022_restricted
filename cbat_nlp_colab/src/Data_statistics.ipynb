{
 "cells": [
  {
   "cell_type": "markdown",
   "metadata": {},
   "source": [
    "## DataのStatistics確認"
   ]
  },
  {
   "cell_type": "code",
   "execution_count": 2,
   "metadata": {},
   "outputs": [
    {
     "name": "stdout",
     "output_type": "stream",
     "text": [
      "\u001b[31mannotationsのコピー2.csv\u001b[m\u001b[m        scripts_time.tsv\r\n",
      "\u001b[31mdataについて.xlsx\u001b[m\u001b[m               scripts_time_intention.tsv\r\n",
      "\u001b[31mguideline_05101507.xlsx\u001b[m\u001b[m         \u001b[31mspeaker_id.csv\u001b[m\u001b[m\r\n"
     ]
    }
   ],
   "source": [
    "!ls ../data"
   ]
  },
  {
   "cell_type": "code",
   "execution_count": 15,
   "metadata": {},
   "outputs": [],
   "source": [
    "# max character length, avg length\n",
    "\n",
    "char_len_scripts = []\n",
    "\n",
    "for line in open(\"../data/scripts_time.tsv\"):\n",
    "    line = line.strip()\n",
    "    _, _, script, _, _ = line.split('\\t')\n",
    "    char_len_scripts.append(len(script))"
   ]
  },
  {
   "cell_type": "code",
   "execution_count": 16,
   "metadata": {},
   "outputs": [
    {
     "data": {
      "text/plain": [
       "473"
      ]
     },
     "execution_count": 16,
     "metadata": {},
     "output_type": "execute_result"
    }
   ],
   "source": [
    "max(char_len_scripts)"
   ]
  },
  {
   "cell_type": "code",
   "execution_count": 17,
   "metadata": {},
   "outputs": [
    {
     "data": {
      "text/plain": [
       "27.203250176019488"
      ]
     },
     "execution_count": 17,
     "metadata": {},
     "output_type": "execute_result"
    }
   ],
   "source": [
    "import numpy\n",
    "numpy.average(char_len_scripts)"
   ]
  },
  {
   "cell_type": "code",
   "execution_count": 18,
   "metadata": {},
   "outputs": [
    {
     "name": "stdout",
     "output_type": "stream",
     "text": [
      "\u001b[34mdata\u001b[m\u001b[m                              test_results_original.txt\r\n",
      "error_analysis_epoch10.txt        test_results_original_epoch10.txt\r\n",
      "error_analysis_epoch3.txt         test_results_original_epoch3.txt\r\n"
     ]
    }
   ],
   "source": [
    "!ls ../analysis/"
   ]
  },
  {
   "cell_type": "code",
   "execution_count": 21,
   "metadata": {},
   "outputs": [],
   "source": [
    "# max word length, avg length\n",
    "\n",
    "data = [\"train\", \"valid\", \"test\"]\n",
    "\n",
    "len_word_scripts = []\n",
    "for data_type in data:\n",
    "    for line in open(\"../analysis/data/{}.tok\".format(data_type)):\n",
    "        line = line.strip()\n",
    "        tokenized_script, _ = line.split('\\t')\n",
    "        \n",
    "        word_len = len(tokenized_script.split(' '))\n",
    "        len_word_scripts.append(word_len)"
   ]
  },
  {
   "cell_type": "code",
   "execution_count": 22,
   "metadata": {},
   "outputs": [
    {
     "data": {
      "text/plain": [
       "292"
      ]
     },
     "execution_count": 22,
     "metadata": {},
     "output_type": "execute_result"
    }
   ],
   "source": [
    "max(len_word_scripts)"
   ]
  },
  {
   "cell_type": "code",
   "execution_count": 23,
   "metadata": {},
   "outputs": [
    {
     "data": {
      "text/plain": [
       "16.755623215984777"
      ]
     },
     "execution_count": 23,
     "metadata": {},
     "output_type": "execute_result"
    }
   ],
   "source": [
    "numpy.average(len_word_scripts)"
   ]
  },
  {
   "cell_type": "code",
   "execution_count": null,
   "metadata": {},
   "outputs": [],
   "source": []
  }
 ],
 "metadata": {
  "kernelspec": {
   "display_name": "Python 3.7.3 64-bit ('3.7.3': pyenv)",
   "language": "python",
   "name": "python37364bit373pyenvcab26cc9cfef4679bbbd641d3284d5c0"
  },
  "language_info": {
   "codemirror_mode": {
    "name": "ipython",
    "version": 3
   },
   "file_extension": ".py",
   "mimetype": "text/x-python",
   "name": "python",
   "nbconvert_exporter": "python",
   "pygments_lexer": "ipython3",
   "version": "3.7.3"
  }
 },
 "nbformat": 4,
 "nbformat_minor": 2
}
