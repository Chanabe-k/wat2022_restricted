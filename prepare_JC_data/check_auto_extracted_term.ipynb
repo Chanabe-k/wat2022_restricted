{
 "cells": [
  {
   "cell_type": "code",
   "execution_count": 7,
   "id": "23211a17",
   "metadata": {
    "ExecuteTime": {
     "end_time": "2022-03-19T11:46:02.513652Z",
     "start_time": "2022-03-19T11:46:02.380335Z"
    }
   },
   "outputs": [
    {
     "name": "stdout",
     "output_type": "stream",
     "text": [
      "dev.dic.full     dev.en_term      dev.ja_term      test.dic.full\r\n",
      "dev.en           dev.ja           devtest.dic.full\r\n"
     ]
    }
   ],
   "source": [
    "# 人手抽出されたデータ\n",
    "!ls ../data/ASPEC-JE/gold_term_list/"
   ]
  },
  {
   "cell_type": "code",
   "execution_count": 3,
   "id": "5a707e56",
   "metadata": {
    "ExecuteTime": {
     "end_time": "2022-03-19T11:45:37.558002Z",
     "start_time": "2022-03-19T11:45:37.423009Z"
    }
   },
   "outputs": [
    {
     "name": "stdout",
     "output_type": "stream",
     "text": [
      "dev_eng_extracted.txt        devtest_janome_extracted.txt\r\n",
      "dev_janome_extracted.txt     test_eng_extracted.txt\r\n",
      "devtest_eng_extracted.txt    test_janome_extracted.txt\r\n"
     ]
    }
   ],
   "source": [
    "# 自動抽出されたデータ\n",
    "!ls ../work/ASPEC_JE/"
   ]
  },
  {
   "cell_type": "code",
   "execution_count": 54,
   "id": "78e4886e",
   "metadata": {
    "ExecuteTime": {
     "end_time": "2022-03-21T05:55:40.354863Z",
     "start_time": "2022-03-21T05:55:40.125787Z"
    }
   },
   "outputs": [
    {
     "name": "stdout",
     "output_type": "stream",
     "text": [
      "測定\t1055.821954687437\r\n",
      "可能性\t664.1264722904236\r\n",
      "性\t657.6663287716651\r\n",
      "研究\t560.0285706997456\r\n",
      "治療\t534.505378831682\r\n",
      "Ｉ\t509.22293742524994\r\n",
      "技術\t460.0869483043395\r\n",
      "Ａ\t444.48622025885123\r\n",
      "膜\t441.23463146040564\r\n",
      "方法\t362.10219551944175\r\n"
     ]
    }
   ],
   "source": [
    "!head ../work/ASPEC_JE/dev_janome_extracted.txt"
   ]
  },
  {
   "cell_type": "markdown",
   "id": "9d5ed5c0",
   "metadata": {},
   "source": [
    "## 自動抽出されたterm setと人手抽出されたterm setの一致率"
   ]
  },
  {
   "cell_type": "code",
   "execution_count": 45,
   "id": "1ed77b3f",
   "metadata": {
    "ExecuteTime": {
     "end_time": "2022-03-24T05:43:13.974080Z",
     "start_time": "2022-03-24T05:43:13.968549Z"
    }
   },
   "outputs": [],
   "source": [
    "def get_term_set(term_path, data_type='gold'):\n",
    "    term_set = set()\n",
    "    for line in open(term_path):\n",
    "        line = line.strip()\n",
    "        if data_type == 'gold':\n",
    "            terms = line.split('\\t')\n",
    "            for term in terms:\n",
    "                term_set.add(term)\n",
    "        else: # 'auto'\n",
    "            term, _ = line.split('\\t')\n",
    "            term_set.add(term)\n",
    "    return term_set"
   ]
  },
  {
   "cell_type": "code",
   "execution_count": 53,
   "id": "724577df",
   "metadata": {
    "ExecuteTime": {
     "end_time": "2022-03-21T05:53:23.890836Z",
     "start_time": "2022-03-21T05:53:23.811803Z"
    }
   },
   "outputs": [
    {
     "name": "stdout",
     "output_type": "stream",
     "text": [
      "dev-ja\n",
      "human: 4444\n",
      "auto: 6669\n",
      "covered: 3070 ( 69.1%)\n",
      "\n",
      "dev-en\n",
      "human: 4480\n",
      "auto: 7716\n",
      "covered: 2399 ( 53.5%)\n",
      "\n",
      "devtest-ja\n",
      "human: 5046\n",
      "auto: 6780\n",
      "covered: 3576 ( 70.9%)\n",
      "\n",
      "devtest-en\n",
      "human: 5032\n",
      "auto: 7739\n",
      "covered: 2732 ( 54.3%)\n",
      "\n",
      "test-ja\n",
      "human: 5055\n",
      "auto: 6696\n",
      "covered: 3583 ( 70.9%)\n",
      "\n",
      "test-en\n",
      "human: 5116\n",
      "auto: 7771\n",
      "covered: 2712 ( 53.0%)\n",
      "\n",
      "\n"
     ]
    }
   ],
   "source": [
    "def calc_term_num(data_type, lang):\n",
    "    parser = {'ja': 'janome', 'en': 'eng', 'zh': 'nlpir'}\n",
    "    dev_human_path = f'../data/ASPEC-JE/gold_term_list/{data_type}.{lang}_term'\n",
    "    dev_auto_path = f'../work/ASPEC_JE/{data_type}_{parser[lang]}_extracted.txt'\n",
    "    human_term_set = get_term_set(dev_human_path, 'gold')\n",
    "    auto_term_set = get_term_set(dev_auto_path, 'auto')\n",
    "\n",
    "    print(f'{data_type}-{lang}')\n",
    "    print(f'human: {len(human_term_set)}\\nauto: {len(auto_term_set)}')\n",
    "    covered_term_set = human_term_set & auto_term_set\n",
    "    print(f'covered: {len(covered_term_set)} ({len(covered_term_set)/len(human_term_set)*100: .1f}%)')\n",
    "    print()\n",
    "    return covered_term_set\n",
    "    \n",
    "calc_term_num('dev', 'ja')\n",
    "calc_term_num('dev', 'en')\n",
    "calc_term_num('devtest', 'ja')\n",
    "calc_term_num('devtest', 'en')\n",
    "calc_term_num('test', 'ja')\n",
    "calc_term_num('test', 'en')\n",
    "print()"
   ]
  },
  {
   "cell_type": "code",
   "execution_count": 59,
   "id": "e829dd02",
   "metadata": {
    "ExecuteTime": {
     "end_time": "2022-03-21T06:23:15.706402Z",
     "start_time": "2022-03-21T06:23:15.665661Z"
    }
   },
   "outputs": [
    {
     "name": "stdout",
     "output_type": "stream",
     "text": [
      "dev-ja\n",
      "human: 4444\n",
      "auto: 6669\n",
      "covered: 3070 ( 69.1%)\n",
      "\n"
     ]
    }
   ],
   "source": [
    "covered_term_set = calc_term_num('dev', 'ja')\n",
    "auto_dic = {line.strip().split('\\t')[0]: line.strip().split('\\t')[1] for line in open(f'../work/ASPEC_JE/dev_janome_extracted.txt')}\n",
    "\n",
    "covered_term_list = [(term, auto_dic[term]) for term in covered_term_set]\n",
    "\n",
    "with open('../work/ASPEC_JE/dev_covered_terms.txt', 'w') as f_w:\n",
    "    for t in  sorted(covered_term_list, key=lambda x: float(x[1]), reverse=True):\n",
    "        f_w.write(t[0] + '\\t' + t[1] + '\\n')"
   ]
  },
  {
   "cell_type": "markdown",
   "id": "42a42e6d",
   "metadata": {},
   "source": [
    "- enja両側で同じもの/アルファベットだけのものもあるようなのでこの辺りはクリーニング対象\n",
    "    - langidかけたら解決しないかな？"
   ]
  },
  {
   "cell_type": "code",
   "execution_count": 1,
   "id": "dcb27308",
   "metadata": {
    "ExecuteTime": {
     "end_time": "2022-03-24T05:07:01.066907Z",
     "start_time": "2022-03-24T05:07:00.931972Z"
    },
    "scrolled": true
   },
   "outputs": [
    {
     "name": "stdout",
     "output_type": "stream",
     "text": [
      "環境\r\n",
      "システム\r\n",
      "評価\r\n",
      "研究\r\n",
      "情報\r\n",
      "可能性\r\n",
      "データ\r\n",
      "実験\r\n",
      "処理\r\n",
      "影響\r\n"
     ]
    }
   ],
   "source": [
    "!head ../work/ASPEC_JC/dev.ja_term_list.txt"
   ]
  },
  {
   "cell_type": "code",
   "execution_count": 6,
   "id": "26635d1e",
   "metadata": {
    "ExecuteTime": {
     "end_time": "2022-04-01T05:23:30.792941Z",
     "start_time": "2022-04-01T05:23:30.754959Z"
    }
   },
   "outputs": [],
   "source": [
    "import re\n",
    "dataset = 'test'\n",
    "lang = 'zh'\n",
    "\n",
    "input_path = f'../work/ASPEC_JC/{dataset}.{lang}_term_list.txt'\n",
    "output_path = f'../work/ASPEC_JC/cleaned_{dataset}.{lang}_term_list.txt'\n",
    "\n",
    "def is_filtered(term):\n",
    "    is_filtered = False\n",
    "    not_ja_pattern = re.compile('[a-zA-Zａ-ｚＡ-Ｚ0-9０-９αθσ℃，・°（）＠．／＋＞＜：＝＊]+')\n",
    "    one_char_pattern = re.compile('\\S')\n",
    "    \n",
    "    patterns = [\n",
    "        not_ja_pattern, \n",
    "        one_char_pattern\n",
    "    ]\n",
    "    \n",
    "    for p in patterns:\n",
    "        if p.fullmatch(term):\n",
    "            is_filtered = True\n",
    "    return is_filtered\n",
    "\n",
    "with open(output_path, 'w') as f_w:\n",
    "    for line in open(input_path):\n",
    "        term = line.strip()\n",
    "\n",
    "        if is_filtered(term):\n",
    "            continue\n",
    "        else:\n",
    "            f_w.write(term + '\\n')"
   ]
  },
  {
   "cell_type": "markdown",
   "id": "9a2282b3",
   "metadata": {},
   "source": [
    "- 一応clean後のデータでカバー率を数えてみる"
   ]
  },
  {
   "cell_type": "code",
   "execution_count": 70,
   "id": "a484c7bb",
   "metadata": {
    "ExecuteTime": {
     "end_time": "2022-03-24T05:59:57.387013Z",
     "start_time": "2022-03-24T05:59:57.381608Z"
    }
   },
   "outputs": [],
   "source": [
    "def calc_term_num(data_type, lang):\n",
    "    parser = {'ja': 'janome', 'en': 'eng', 'zh': 'nlpir'}\n",
    "    dev_human_path = f'../data/ASPEC-JE/gold_term_list/{data_type}.{lang}_term'\n",
    "    dev_auto_path = f'../work/ASPEC_JE/cleaned_{data_type}.ja_term_list.txt'\n",
    "    human_term_set = get_term_set(dev_human_path, 'gold')\n",
    "    auto_term_set = get_term_set(dev_auto_path, 'gold')\n",
    "\n",
    "    print(f'{data_type}-{lang}')\n",
    "    print(f'human: {len(human_term_set)}\\nauto: {len(auto_term_set)}')\n",
    "    covered_term_set = human_term_set & auto_term_set\n",
    "    print(f'covered: {len(covered_term_set)} ({len(covered_term_set)/len(human_term_set)*100: .1f}%)')\n",
    "    print()\n",
    "    return covered_term_set"
   ]
  },
  {
   "cell_type": "code",
   "execution_count": 71,
   "id": "5e0bdf7d",
   "metadata": {
    "ExecuteTime": {
     "end_time": "2022-03-24T05:59:57.687506Z",
     "start_time": "2022-03-24T05:59:57.648445Z"
    }
   },
   "outputs": [
    {
     "name": "stdout",
     "output_type": "stream",
     "text": [
      "dev-ja\n",
      "human: 4444\n",
      "auto: 6053\n",
      "covered: 2926 ( 65.8%)\n",
      "\n",
      "devtest-ja\n",
      "human: 5046\n",
      "auto: 6232\n",
      "covered: 3430 ( 68.0%)\n",
      "\n",
      "test-ja\n",
      "human: 5055\n",
      "auto: 6089\n",
      "covered: 3424 ( 67.7%)\n",
      "\n",
      "\n"
     ]
    }
   ],
   "source": [
    "calc_term_num('dev', 'ja')\n",
    "calc_term_num('devtest', 'ja')\n",
    "calc_term_num('test', 'ja')\n",
    "print()"
   ]
  },
  {
   "cell_type": "code",
   "execution_count": null,
   "id": "b68526e4",
   "metadata": {},
   "outputs": [],
   "source": []
  }
 ],
 "metadata": {
  "kernelspec": {
   "display_name": "Python 3",
   "language": "python",
   "name": "python3"
  },
  "language_info": {
   "codemirror_mode": {
    "name": "ipython",
    "version": 3
   },
   "file_extension": ".py",
   "mimetype": "text/x-python",
   "name": "python",
   "nbconvert_exporter": "python",
   "pygments_lexer": "ipython3",
   "version": "3.8.6"
  },
  "toc": {
   "base_numbering": 1,
   "nav_menu": {},
   "number_sections": true,
   "sideBar": true,
   "skip_h1_title": false,
   "title_cell": "Table of Contents",
   "title_sidebar": "Contents",
   "toc_cell": false,
   "toc_position": {},
   "toc_section_display": true,
   "toc_window_display": false
  }
 },
 "nbformat": 4,
 "nbformat_minor": 5
}
