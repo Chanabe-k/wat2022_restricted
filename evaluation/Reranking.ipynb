{
 "cells": [
  {
   "cell_type": "code",
   "execution_count": 9,
   "id": "a3de1a7a",
   "metadata": {
    "ExecuteTime": {
     "end_time": "2021-04-18T06:40:28.920308Z",
     "start_time": "2021-04-18T06:40:28.697049Z"
    },
    "scrolled": true
   },
   "outputs": [
    {
     "name": "stdout",
     "output_type": "stream",
     "text": [
      "==> ../../data/dic/test.dic.en <==\r\n",
      "\"Fugen Power Plant\"\r\n",
      "DERS software\r\n",
      "dose rate\r\n",
      "\r\n",
      "dose rate\r\n",
      "\r\n",
      "==> ../../data/dic/test.dic.ja <==\r\n",
      "線量率\r\n",
      "ＤＥＲＳソフトウエア\r\n",
      "「ふげん発電所」\r\n",
      "\r\n",
      "ＶＲｄｏｓｅソフトウエア\r\n"
     ]
    }
   ],
   "source": [
    "!head -n 5 ../../data/dic/test.dic.*"
   ]
  },
  {
   "cell_type": "code",
   "execution_count": 12,
   "id": "d5ea9bdf",
   "metadata": {
    "ExecuteTime": {
     "end_time": "2021-04-18T06:40:43.437341Z",
     "start_time": "2021-04-18T06:40:43.217476Z"
    },
    "scrolled": true
   },
   "outputs": [
    {
     "name": "stdout",
     "output_type": "stream",
     "text": [
      "ＤＥＲＳソフトウエアを用いて「ふげん発電所」の線量率を詳細に計算できる。|Details of dose rate of \"Fugen Power Plant\" can be calculated by using DERS software.|ＤＥＲＳソフトウエア\t「ふげん発電所」\t線量率|dose rate\t\"Fugen Power Plant\"\tDERS software|0\r\n",
      "線量率を計算する際の状況の変化，すなわちオブジェクトの変化をＶＲｄｏｓｅソフトウエアがＤＥＲＳに特別なマーカにより知らせる。|The changes of conditions for computation of the dose rate, namely, object changes, are inputted to DERS from VRdose software by using a special marker.|線量率\tオブジェクトの変化\tＶＲｄｏｓｅソフトウエア\tＤＥＲＳ|dose rate\tobject changes\tDERS\tVRdose software|4\r\n",
      "ＤＥＲＳはこれらの変化に対応して新たな線量率を計算できる。|Responding to these changes DERS can compute new dose rate.|ＤＥＲＳ\t線量率|DERS\tdose rate|5\r\n"
     ]
    }
   ],
   "source": [
    "!head -n 3 ../../data/dic_full/test.dic.full"
   ]
  },
  {
   "cell_type": "code",
   "execution_count": 1,
   "id": "3c02f0e9",
   "metadata": {
    "ExecuteTime": {
     "end_time": "2021-05-06T11:44:42.439036Z",
     "start_time": "2021-05-06T11:44:42.421231Z"
    }
   },
   "outputs": [],
   "source": [
    "with open('../../data/dic_full/test.dic.full') as f_dic_full,  \\\n",
    "open('../../data/test_gold.en', 'w') as f_en, \\\n",
    "open('../../data/test_gold.ja', 'w') as f_ja:\n",
    "    for line in f_dic_full:\n",
    "        line = line.strip()\n",
    "        \n",
    "        ja_line, en_line, ja_dic, en_dic, annotator = line.split('|')\n",
    "        f_en.write(en_line + '\\n')\n",
    "        f_ja.write(ja_line + '\\n')"
   ]
  },
  {
   "cell_type": "code",
   "execution_count": 3,
   "id": "39270b3a",
   "metadata": {
    "ExecuteTime": {
     "end_time": "2021-05-06T11:45:04.314587Z",
     "start_time": "2021-05-06T11:45:04.052415Z"
    }
   },
   "outputs": [
    {
     "name": "stdout",
     "output_type": "stream",
     "text": [
      "==> ../../data/test_gold.en <==\n",
      "Details of dose rate of \"Fugen Power Plant\" can be calculated by using DERS software.\n",
      "The changes of conditions for computation of the dose rate, namely, object changes, are inputted to DERS from VRdose software by using a special marker.\n",
      "Responding to these changes DERS can compute new dose rate.\n",
      "\n",
      "==> ../../data/test_gold.ja <==\n",
      "ＤＥＲＳソフトウエアを用いて「ふげん発電所」の線量率を詳細に計算できる。\n",
      "線量率を計算する際の状況の変化，すなわちオブジェクトの変化をＶＲｄｏｓｅソフトウエアがＤＥＲＳに特別なマーカにより知らせる。\n",
      "ＤＥＲＳはこれらの変化に対応して新たな線量率を計算できる。\n",
      "==> ../../data/test_gold.en <==\n",
      "The images were thinly sliced with microtome, and their cross‐sectional structures were observed by optical microscope and transmission type electron microscope.\n",
      "It was found that the printed image had lower image thickness and higher uniformity in thickness.\n",
      "A control in thickness direction seems to be effective for upgrading of the image quality in electro photography.\n",
      "\n",
      "==> ../../data/test_gold.ja <==\n",
      "画像をミクロームで薄切りにして断面構造を光学顕微鏡及び透過型電子顕微鏡で観察した。\n",
      "その結果，印刷画像は画像の厚みが少なく，また，均一性が高いことがわかった。\n",
      "電子写真画像の高画質化にためには厚み方向の制御が有効と考えた\n"
     ]
    }
   ],
   "source": [
    "!head -n 3 ../../data/test_gold.*\n",
    "!tail -n 3 ../../data/test_gold.*"
   ]
  },
  {
   "cell_type": "code",
   "execution_count": 2,
   "id": "e0b5e787",
   "metadata": {
    "ExecuteTime": {
     "end_time": "2021-05-06T11:44:44.133431Z",
     "start_time": "2021-05-06T11:44:43.866007Z"
    }
   },
   "outputs": [
    {
     "name": "stdout",
     "output_type": "stream",
     "text": [
      "==> ../../data/sample_output.en <==\n",
      "Details of dose rate of \"Hoge Power Plant\" can be calculated by using DERS software.\n",
      "The changes of conditions for computation of the dose rate, namely, object changes, are inputted to DERS from VRdose software by using a special marker.\n",
      "Responding to these changes HOGE can compute new dose rate.\n",
      "\n",
      "==> ../../data/sample_output.ja <==\n",
      "ＤＥＲＳソフトウエアを用いて「ほげ発電所」の線量率を詳細に計算できる。\n",
      "線量率を計算する際の状況の変化，すなわちオブジェクトの変化をＶＲｄｏｓｅソフトウエアがＤＥＲＳに特別なマーカにより知らせる。\n",
      "HOGEはこれらの変化に対応して新たな線量率を計算できる。\n",
      "==> ../../data/sample_output.en <==\n",
      "The images were thinly sliced with microtome, and their cross‐sectional structures were observed by optical microscope and transmission type electron microscope.\n",
      "It was found that the printed image had lower image thickness and higher uniformity in thickness.\n",
      "A control in thickness direction seems to be effective for upgrading of the image quality in electro photography.\n",
      "\n",
      "==> ../../data/sample_output.ja <==\n",
      "画像をミクロームで薄切りにして断面構造を光学顕微鏡及び透過型電子顕微鏡で観察した。\n",
      "その結果，印刷画像は画像の厚みが少なく，また，均一性が高いことがわかった。\n",
      "電子写真画像の高画質化にためには厚み方向の制御が有効と考えた\n"
     ]
    }
   ],
   "source": [
    "!head -n 3 ../../data/sample_output.*\n",
    "!tail -n 3 ../../data/sample_output.*"
   ]
  },
  {
   "cell_type": "markdown",
   "id": "22f4f8f6",
   "metadata": {},
   "source": [
    "## Re-ranking"
   ]
  },
  {
   "cell_type": "code",
   "execution_count": 10,
   "id": "16e35832",
   "metadata": {
    "ExecuteTime": {
     "end_time": "2022-07-28T06:30:35.301334Z",
     "start_time": "2022-07-28T06:30:29.721755Z"
    }
   },
   "outputs": [
    {
     "name": "stdout",
     "output_type": "stream",
     "text": [
      "+ LANG=en\n",
      "+ DIRECTION=ja-en\n",
      "+ HOME_PATH=/Users/abe-k/restricted_translation/wat2022_restricted/\n",
      "+ GOLD_PATH=/Users/abe-k/restricted_translation/wat2022_restricted/data/ASPEC-JE/test_gold.en\n",
      "+ FILTERED_OUTPUTS_PATH=/Users/abe-k/restricted_translation/wat2022_restricted/work/filtered_outputs/ja-en\n",
      "++ ls /Users/abe-k/restricted_translation/wat2022_restricted/work/filtered_outputs/ja-en\n",
      "+ for OUTPUT_PATH in '$( ls ${FILTERED_OUTPUTS_PATH})'\n",
      "+ echo TMU_system1.txt.filtered\n",
      "+ '[' ja-en = en-ja ']'\n",
      "+ cat /Users/abe-k/restricted_translation/wat2022_restricted/work/filtered_outputs/ja-en/TMU_system1.txt.filtered\n",
      "+ sacrebleu /Users/abe-k/restricted_translation/wat2022_restricted/data/ASPEC-JE/test_gold.en -l ja-en\n",
      "+ for OUTPUT_PATH in '$( ls ${FILTERED_OUTPUTS_PATH})'\n",
      "+ echo TMU_system2.txt.filtered\n",
      "+ '[' ja-en = en-ja ']'\n",
      "+ cat /Users/abe-k/restricted_translation/wat2022_restricted/work/filtered_outputs/ja-en/TMU_system2.txt.filtered\n",
      "+ sacrebleu /Users/abe-k/restricted_translation/wat2022_restricted/data/ASPEC-JE/test_gold.en -l ja-en\n",
      "+ for OUTPUT_PATH in '$( ls ${FILTERED_OUTPUTS_PATH})'\n",
      "+ echo TMU_system3.txt.filtered\n",
      "+ '[' ja-en = en-ja ']'\n",
      "+ cat /Users/abe-k/restricted_translation/wat2022_restricted/work/filtered_outputs/ja-en/TMU_system3.txt.filtered\n",
      "+ sacrebleu /Users/abe-k/restricted_translation/wat2022_restricted/data/ASPEC-JE/test_gold.en -l ja-en\n",
      "+ for OUTPUT_PATH in '$( ls ${FILTERED_OUTPUTS_PATH})'\n",
      "+ echo TMU_system4.txt.filtered\n",
      "+ '[' ja-en = en-ja ']'\n",
      "+ cat /Users/abe-k/restricted_translation/wat2022_restricted/work/filtered_outputs/ja-en/TMU_system4.txt.filtered\n",
      "+ sacrebleu /Users/abe-k/restricted_translation/wat2022_restricted/data/ASPEC-JE/test_gold.en -l ja-en\n",
      "+ for OUTPUT_PATH in '$( ls ${FILTERED_OUTPUTS_PATH})'\n",
      "+ echo TMU_system5.txt.filtered\n",
      "+ '[' ja-en = en-ja ']'\n",
      "+ cat /Users/abe-k/restricted_translation/wat2022_restricted/work/filtered_outputs/ja-en/TMU_system5.txt.filtered\n",
      "+ sacrebleu /Users/abe-k/restricted_translation/wat2022_restricted/data/ASPEC-JE/test_gold.en -l ja-en\n",
      "+ for OUTPUT_PATH in '$( ls ${FILTERED_OUTPUTS_PATH})'\n",
      "+ echo TMU_system6.txt.filtered\n",
      "+ '[' ja-en = en-ja ']'\n",
      "+ cat /Users/abe-k/restricted_translation/wat2022_restricted/work/filtered_outputs/ja-en/TMU_system6.txt.filtered\n",
      "+ sacrebleu /Users/abe-k/restricted_translation/wat2022_restricted/data/ASPEC-JE/test_gold.en -l ja-en\n"
     ]
    }
   ],
   "source": [
    "!./calc_BLEU.sh ja en-ja > ../../work/all_results_en-ja.txt\n",
    "!./calc_BLEU.sh en ja-en > ../../work/all_results_ja-en.txt"
   ]
  },
  {
   "cell_type": "code",
   "execution_count": 6,
   "id": "98fce5c1",
   "metadata": {
    "ExecuteTime": {
     "end_time": "2022-07-28T05:56:33.101294Z",
     "start_time": "2022-07-28T05:56:32.443923Z"
    }
   },
   "outputs": [
    {
     "name": "stdout",
     "output_type": "stream",
     "text": [
      "../../work/all_results_en-ja.txt ../../work/all_results_ja-en.txt\r\n"
     ]
    }
   ],
   "source": [
    "!ls ../../work/all_results_*.txt"
   ]
  },
  {
   "cell_type": "code",
   "execution_count": 11,
   "id": "9fa68c30",
   "metadata": {
    "ExecuteTime": {
     "end_time": "2022-07-28T06:30:46.968083Z",
     "start_time": "2022-07-28T06:30:46.325177Z"
    }
   },
   "outputs": [
    {
     "name": "stdout",
     "output_type": "stream",
     "text": [
      "==> ../../work/all_results_en-ja.txt <==\r\n",
      "TMU_system1.txt.filtered\r\n",
      "BLEU+case.mixed+lang.en-ja+numrefs.1+smooth.exp+tok.ja-mecab-0.996-IPA+version.1.5.1 = 37.6 79.7/61.4/48.7/39.2 (BP = 0.679 ratio = 0.721 hyp_len = 36236 ref_len = 50243)\r\n",
      "TMU_system2.txt.filtered\r\n",
      "BLEU+case.mixed+lang.en-ja+numrefs.1+smooth.exp+tok.ja-mecab-0.996-IPA+version.1.5.1 = 50.5 81.8/63.1/49.8/40.0 (BP = 0.891 ratio = 0.896 hyp_len = 45039 ref_len = 50243)\r\n",
      "TMU_system3.txt.filtered\r\n",
      "BLEU+case.mixed+lang.en-ja+numrefs.1+smooth.exp+tok.ja-mecab-0.996-IPA+version.1.5.1 = 50.1 81.9/63.1/49.9/40.1 (BP = 0.882 ratio = 0.889 hyp_len = 44659 ref_len = 50243)\r\n",
      "TMU_system4.txt.filtered\r\n",
      "BLEU+case.mixed+lang.en-ja+numrefs.1+smooth.exp+tok.ja-mecab-0.996-IPA+version.1.5.1 = 50.4 81.8/63.1/49.9/40.1 (BP = 0.889 ratio = 0.895 hyp_len = 44947 ref_len = 50243)\r\n",
      "TMU_system5.txt.filtered\r\n",
      "BLEU+case.mixed+lang.en-ja+numrefs.1+smooth.exp+tok.ja-mecab-0.996-IPA+version.1.5.1 = 52.4 82.3/64.2/51.3/41.6 (BP = 0.904 ratio = 0.908 hyp_len = 45626 ref_len = 50243)\r\n",
      "\r\n",
      "==> ../../work/all_results_ja-en.txt <==\r\n",
      "TMU_system1.txt.filtered\r\n",
      "BLEU+case.mixed+lang.ja-en+numrefs.1+smooth.exp+tok.13a+version.1.5.1 = 38.1 73.6/50.5/36.7/27.1 (BP = 0.868 ratio = 0.876 hyp_len = 38914 ref_len = 44401)\r\n",
      "TMU_system2.txt.filtered\r\n",
      "BLEU+case.mixed+lang.ja-en+numrefs.1+smooth.exp+tok.13a+version.1.5.1 = 23.0 69.4/46.7/33.6/24.6 (BP = 0.569 ratio = 0.639 hyp_len = 28381 ref_len = 44401)\r\n",
      "TMU_system3.txt.filtered\r\n",
      "BLEU+case.mixed+lang.ja-en+numrefs.1+smooth.exp+tok.13a+version.1.5.1 = 38.1 73.9/50.8/37.1/27.5 (BP = 0.860 ratio = 0.869 hyp_len = 38599 ref_len = 44401)\r\n",
      "TMU_system4.txt.filtered\r\n",
      "BLEU+case.mixed+lang.ja-en+numrefs.1+smooth.exp+tok.13a+version.1.5.1 = 30.6 71.2/49.3/36.2/27.2 (BP = 0.709 ratio = 0.744 hyp_len = 33040 ref_len = 44401)\r\n",
      "TMU_system5.txt.filtered\r\n",
      "BLEU+case.mixed+lang.ja-en+numrefs.1+smooth.exp+tok.13a+version.1.5.1 = 40.7 74.0/51.6/38.1/28.7 (BP = 0.900 ratio = 0.905 hyp_len = 40186 ref_len = 44401)\r\n"
     ]
    }
   ],
   "source": [
    "!head ../../work/all_results_*.txt"
   ]
  },
  {
   "cell_type": "code",
   "execution_count": 14,
   "id": "18d3e8dc",
   "metadata": {
    "ExecuteTime": {
     "end_time": "2022-07-28T06:35:48.700847Z",
     "start_time": "2022-07-28T06:35:48.694288Z"
    }
   },
   "outputs": [
    {
     "name": "stdout",
     "output_type": "stream",
     "text": [
      "Writing ./re-ranking.py\n"
     ]
    }
   ],
   "source": [
    "%%file ./re-ranking.py\n",
    "print(\"# ja-en\")\n",
    "from itertools import groupby\n",
    "import pprint\n",
    "\n",
    "file_names = []\n",
    "all_scores = []\n",
    "for is_bleu, g in groupby(open('../../work/all_results_ja-en.txt'), lambda line: line.startswith('BLEU')):\n",
    "    if is_bleu:\n",
    "        lines = list(g)\n",
    "        for l in lines:\n",
    "            _, scores = l.split(' = ', 1)\n",
    "            BLEU_score = float(scores.split()[0])\n",
    "            all_scores.append(BLEU_score)\n",
    "    else:\n",
    "        lines = list(g)\n",
    "        for l in lines:\n",
    "            file_names.append(l.strip())\n",
    "\n",
    "score_list = [(file, score) for file, score in zip(file_names, all_scores)]\n",
    "pprint.pprint(sorted(score_list, key=lambda t:t[1], reverse=True))"
   ]
  },
  {
   "cell_type": "code",
   "execution_count": 13,
   "id": "8617e36a",
   "metadata": {
    "ExecuteTime": {
     "end_time": "2022-07-28T06:30:58.201727Z",
     "start_time": "2022-07-28T06:30:58.192726Z"
    }
   },
   "outputs": [
    {
     "name": "stdout",
     "output_type": "stream",
     "text": [
      "# en-ja\n",
      "[('TMU_system7.txt.filtered', 52.7),\n",
      " ('TMU_system6.txt.filtered', 52.5),\n",
      " ('TMU_system5.txt.filtered', 52.4),\n",
      " ('TMU_system2.txt.filtered', 50.5),\n",
      " ('TMU_system4.txt.filtered', 50.4),\n",
      " ('TMU_system3.txt.filtered', 50.1),\n",
      " ('TMU_system1.txt.filtered', 37.6)]\n"
     ]
    }
   ],
   "source": [
    "print(\"# en-ja\")\n",
    "from itertools import groupby\n",
    "import pprint\n",
    "\n",
    "file_names = []\n",
    "all_scores = []\n",
    "for is_bleu, g in groupby(open('../../work/all_results_en-ja.txt'), lambda line: line.startswith('BLEU')):\n",
    "    if is_bleu:\n",
    "        lines = list(g)\n",
    "        for l in lines:\n",
    "            _, scores = l.split(' = ', 1)\n",
    "            BLEU_score = float(scores.split()[0])\n",
    "            all_scores.append(BLEU_score)\n",
    "    else:\n",
    "        lines = list(g)\n",
    "        for l in lines:\n",
    "            file_names.append(l.strip())\n",
    "\n",
    "score_list = [(file, score) for file, score in zip(file_names, all_scores)]\n",
    "pprint.pprint(sorted(score_list, key=lambda t:t[1], reverse=True))"
   ]
  },
  {
   "cell_type": "code",
   "execution_count": null,
   "id": "241f796c",
   "metadata": {},
   "outputs": [],
   "source": []
  }
 ],
 "metadata": {
  "kernelspec": {
   "display_name": "Python 3",
   "language": "python",
   "name": "python3"
  },
  "language_info": {
   "codemirror_mode": {
    "name": "ipython",
    "version": 3
   },
   "file_extension": ".py",
   "mimetype": "text/x-python",
   "name": "python",
   "nbconvert_exporter": "python",
   "pygments_lexer": "ipython3",
   "version": "3.8.6"
  },
  "toc": {
   "base_numbering": 1,
   "nav_menu": {},
   "number_sections": true,
   "sideBar": true,
   "skip_h1_title": false,
   "title_cell": "Table of Contents",
   "title_sidebar": "Contents",
   "toc_cell": false,
   "toc_position": {},
   "toc_section_display": true,
   "toc_window_display": false
  }
 },
 "nbformat": 4,
 "nbformat_minor": 5
}
